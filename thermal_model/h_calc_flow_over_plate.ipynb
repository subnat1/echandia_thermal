{
 "cells": [
  {
   "cell_type": "code",
   "execution_count": 21,
   "metadata": {},
   "outputs": [],
   "source": [
    "# Parameters, Constants\n",
    "# Properties of air at 308 K (35 deg. C)\n",
    "# Co-efficient of thermal conductivity\n",
    "k_air   = 0.0263 # W/m.K\n",
    "# Prandtl value\n",
    "Pr_air  = 0.7\n",
    "# Kinematic viscosity\n",
    "nu_air  = 15.11e-6 # m2/s\n",
    "# Density\n",
    "rho_air = 1 # kg/m3\n",
    "# Critical Reynolds number for flow over a plate\n",
    "Re_crit = 5e5\n"
   ]
  },
  {
   "cell_type": "code",
   "execution_count": 22,
   "metadata": {},
   "outputs": [],
   "source": [
    "def get_nusselt_num(Re: float, heated: bool = False):\n",
    "    global Re_crit, Pr_air\n",
    "    # Check for turbulence\n",
    "    turbulent = False\n",
    "    if Re >= Re_crit:\n",
    "        turbulent = True\n",
    "    # These models are valid for 0.6 <= Pr <= 60\n",
    "    if heated:\n",
    "        if turbulent:\n",
    "            print (f\"Heated turbulent flow\")\n",
    "            return 0.0308 * (Re ** 0.8) * (Pr_air ** 0.333)  # Incropera 7.46\n",
    "        else:\n",
    "            return 0.453 * (Re ** 0.5) * (Pr_air ** 0.333) # Incropera 7.45\n",
    "    else:\n",
    "        # Isothermal plate\n",
    "        if turbulent:\n",
    "            return 0.0296 * (Re ** 0.8) * (Pr_air ** 0.333) # 7.36\n",
    "        else:\n",
    "            # Averaged flow over large plate where local effects are averaged out\n",
    "            return 0.664 * (Re ** 0.5) * (Pr_air ** 0.333) # 7.30"
   ]
  },
  {
   "cell_type": "code",
   "execution_count": 23,
   "metadata": {},
   "outputs": [],
   "source": [
    "# calculate h\n",
    "def calc_h(u_inf: float, len: float) -> float:\n",
    "    # import constants\n",
    "    global k_air, Pr_air, nu_air, rho_air\n",
    "    # Calculate Reynold's number\n",
    "    Re = rho_air * u_inf * len / nu_air\n",
    "    print(f\"Reynolds number : {Re}\")\n",
    "    # get Nusselt number\n",
    "    Nu = get_nusselt_num (Re, True)\n",
    "    print(f\"Nusselt number : {Nu}\")\n",
    "    # Calculate average h \n",
    "    h = Nu * k_air / len\n",
    "    return h\n"
   ]
  },
  {
   "cell_type": "code",
   "execution_count": 24,
   "metadata": {},
   "outputs": [
    {
     "name": "stdout",
     "output_type": "stream",
     "text": [
      "Reynolds number : 1323626.7372600927\n",
      "Heated turbulent flow\n",
      "Nusselt number : 2075.4954395297827\n",
      "54.585530059633285\n"
     ]
    }
   ],
   "source": [
    "print (calc_h(20, 1))\n"
   ]
  }
 ],
 "metadata": {
  "kernelspec": {
   "display_name": "Python 3",
   "language": "python",
   "name": "python3"
  },
  "language_info": {
   "codemirror_mode": {
    "name": "ipython",
    "version": 3
   },
   "file_extension": ".py",
   "mimetype": "text/x-python",
   "name": "python",
   "nbconvert_exporter": "python",
   "pygments_lexer": "ipython3",
   "version": "3.9.6"
  },
  "orig_nbformat": 4
 },
 "nbformat": 4,
 "nbformat_minor": 2
}
